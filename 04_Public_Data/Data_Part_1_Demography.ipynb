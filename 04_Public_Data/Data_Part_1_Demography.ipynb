{
  "cells": [
    {
      "cell_type": "markdown",
      "metadata": {
        "id": "view-in-github",
        "colab_type": "text"
      },
      "source": [
        "<a href=\"https://colab.research.google.com/github/juanfrans-courses/threads-storytelling-with-maps-and-data/blob/main/04_Public_Data/Data_Part_1_Demography.ipynb\" target=\"_parent\"><img src=\"https://colab.research.google.com/assets/colab-badge.svg\" alt=\"Open In Colab\"/></a>"
      ]
    },
    {
      "cell_type": "markdown",
      "metadata": {
        "id": "cXvtrNAG7kU4"
      },
      "source": [
        "# Data Part 1 - Introduction to Census Data\n",
        "\n",
        "**Threads - Storytelling with Maps and Data (Spring 2025)**"
      ]
    },
    {
      "cell_type": "markdown",
      "metadata": {
        "id": "2nA8iQ7k8Vkq"
      },
      "source": [
        "> At first glance data are apparently before the fact: they are the\n",
        "starting point for what we know, who we are, and how we communicate. This shared\n",
        "sense of starting with data often leads to an unnoticed assumption that data are transparent, that information is self-evident, the fundamental stuff of truth itself. If we're not careful, in other words, our zeal for more and more data can become a faith in their neutrality and autonomy, their objectivity. Think of the ways people talk and write about data. Data are familiarly \"collected,\" \"entered,\" \"compiled,\" \"stored,\" \"processed,\" \"mined,\"\n",
        "and \"interpreted.\" Less obvious are the ways in which the final term in this sequence — interpretation — haunts its predecessors. At a certain level the collection and management of data may be said to presuppose interpretation. \"Data [do] not just exist,\" Lev Manovich explains, they have to be \"generated.\" Data need to be imagined as data to exist and function as such, and the imagination of data entails an interpretive base.\n",
        "\n",
        " Lisa Gitelman and Virginia Jackson, [\"Raw Data\" is an Oxymoron](https://dsl.lsu.edu/nehtextualdata/wp-content/uploads/2017/11/RawData.pdf)"
      ]
    },
    {
      "cell_type": "markdown",
      "metadata": {
        "id": "n2meRRD29Qm1"
      },
      "source": [
        "## The Birth of Demography"
      ]
    },
    {
      "cell_type": "markdown",
      "metadata": {
        "id": "TSLLLalg9TfJ"
      },
      "source": [
        "### The Bills of Mortality\n",
        "\n",
        "In an effort to monitor the incidence of the plague, an injunction issued in 1538 on behalf of Henry VIII required the registration of all burials and christenings in every English Parish. The weekly Bills of Mortality were compiled from these registers, and were initially circulated only to government officials. The Bills were made available to the public in 1594, but were discontinued the next year when the plague abated; publication of the Bills resumed in 1603 when the plague broke out again.\n",
        "\n",
        "<img src=\"https://brown-institute-assets.s3.us-east-1.amazonaws.com/Objects/pointsunknown/2021_Summer/Lectures/public_data/bills-of-mortality.jpg\" alt=\"The Bills of Morality\" width=\"350\"/>"
      ]
    },
    {
      "cell_type": "markdown",
      "metadata": {
        "id": "OVuh1Xah9eQV"
      },
      "source": [
        "### Observations\n",
        "\n",
        "Following the Bills of Morality, John Graunt published Observations, which marks the first example of life tables and the birth of the science of demography. It represents the first set of statistical inferences drawn from mortality records. Observations also described patterns of deaths, and looked specifically at births and deaths. In it, there is a resonance to common tropes in media, including disproportionate reporting on murders in cities.\n",
        "\n",
        "<img src=\"https://brown-institute-assets.s3.us-east-1.amazonaws.com/Objects/pointsunknown/2021_Summer/Lectures/public_data/observations.jpg\" alt=\"Observations on the Bills of Morality\" width=\"350\"/>\n",
        "\n",
        "*These observations represent the first, and an extremely competent, attempt to draw scientific conclusions from statistical data. His statistical understanding was considerable; for example, we owe to him the first scientific estimates of population size, the concept of the life table, the idea of statistical association, the first studies of time series, and a pioneer attempt to draw a representative sample.* - Ian Sutherland"
      ]
    },
    {
      "cell_type": "code",
      "execution_count": null,
      "metadata": {
        "id": "Jraxj_PD9TF_"
      },
      "outputs": [],
      "source": [
        "import pandas as pd\n",
        "import numpy as np\n",
        "import geopandas as gpd\n",
        "import altair as alt"
      ]
    },
    {
      "cell_type": "code",
      "execution_count": null,
      "metadata": {
        "id": "JcGOrVpz7nAH"
      },
      "outputs": [],
      "source": [
        "lifetables = pd.read_csv('https://brown-institute-assets.s3.us-east-1.amazonaws.com/Objects/pointsunknown/2021_Summer/Lectures/public_data/lifetables.csv')"
      ]
    },
    {
      "cell_type": "code",
      "execution_count": null,
      "metadata": {
        "id": "gThnEgxZ96Dm"
      },
      "outputs": [],
      "source": [
        "lifetables.head()"
      ]
    },
    {
      "cell_type": "code",
      "execution_count": null,
      "metadata": {
        "id": "IZGEEs1J7K5r"
      },
      "outputs": [],
      "source": [
        "base = alt.Chart(lifetables.reset_index()).encode(x='Year:O')\n",
        "\n",
        "alt.layer(\n",
        "    base.mark_line(color='blue').encode(y='Males_Christened'),\n",
        "    base.mark_line(color='red').encode(y='Females_Christened')\n",
        ")"
      ]
    },
    {
      "cell_type": "code",
      "execution_count": null,
      "metadata": {
        "id": "wkvrIUnx9-yk"
      },
      "outputs": [],
      "source": [
        "base = alt.Chart(lifetables.reset_index()).encode(x='Year:O')\n",
        "\n",
        "alt.layer(\n",
        "    base.mark_line(color='blue').encode(y='Males_Buried'),\n",
        "    base.mark_line(color='red').encode(y='Females_Buried')\n",
        ")"
      ]
    },
    {
      "cell_type": "markdown",
      "metadata": {
        "id": "QR69q1Aj_pxl"
      },
      "source": [
        "Embedded in this data is historical information, like plague outbreaks, civil wars, great fires, etc."
      ]
    },
    {
      "cell_type": "markdown",
      "metadata": {
        "id": "KCH9vzWCAqY8"
      },
      "source": [
        "### A contemporary example\n",
        "\n",
        "[Conflict Urbanism: Colombia](https://conflicturbanismcolombia.com/)"
      ]
    },
    {
      "cell_type": "markdown",
      "metadata": {
        "id": "Rm2iGkh9_5CY"
      },
      "source": [
        "## Discussion\n",
        "\n",
        "[Datasheets for Datasets](https://arxiv.org/pdf/1803.09010)\n",
        "\n",
        "* TIMNIT GEBRU, Black in AI\n",
        "* JAMIE MORGENSTERN, University of Washington\n",
        "* BRIANA VECCHIONE, Cornell University\n",
        "* JENNIFER WORTMAN VAUGHAN, Microsoft Research\n",
        "* HANNA WALLACH, Microsoft Research\n",
        "* HAL DAUMÉ III, Microsoft Research; University of Maryland\n",
        "* KATE CRAWFORD, Microsoft Research"
      ]
    },
    {
      "cell_type": "markdown",
      "metadata": {
        "id": "EoMre31TBHNc"
      },
      "source": [
        "## The US Census - Main Concepts"
      ]
    },
    {
      "cell_type": "markdown",
      "metadata": {
        "id": "F5d5_d35BOf8"
      },
      "source": [
        "### The US Census Bureau\n",
        "\n",
        "<a href=\"https://census.gov\"><img src=\"https://brown-institute-assets.s3.us-east-1.amazonaws.com/Objects/pointsunknown/2021_Summer/Lectures/public_data/census.png\" border=\"1px\" alt=\"Census.gov Homepage\" width=\"750\"/></a>\n",
        "\n",
        "The Census Bureau's mission is to serve as the nation's leading provider of quality data about its people and economy. Census Data, in one form or another, is the backbone (and the basemap) to a lot of what we will visualize and write about. The Census was established by Thomas Jefferson and instantiated with the 1790 decennial census.\n",
        "\n",
        "It is hard to understate the importance of the Census and its data. It is used to apportion seats in the U.S. House of Representatives, used to define legislature districts, school district assignment areas and other important functional areas of government, used to provide services for the elderly, build new roads and schools, locate job training centers, and allocate funding for neighborhood improvements, public health, transportation, etc."
      ]
    },
    {
      "cell_type": "markdown",
      "metadata": {
        "id": "PZhlB7wWBXNL"
      },
      "source": [
        "### data.census.gov\n",
        "\n",
        "<a href=\"https://data.census.gov\"><img src=\"https://brown-institute-assets.s3.us-east-1.amazonaws.com/Objects/pointsunknown/2021_Summer/Lectures/public_data/data-census.png\" border=\"1px\" alt=\"data.census.gov Homepage\" width=\"750\"/></a>\n",
        "\n",
        "The central repository for Census data is at [data.census.gov](https://data.census.gov). You can pull Census data from the bureau's API, but it is important to know where you can access all the tables available through the Census, and also make sense of how the bureau structures its data.\n",
        "\n",
        "When we say Census, we really are talking about two main products: the **10-year Decennial Census**, and the **American Community Survey**. While the 10-year is critical for things like funding and infrastructure, the ACS is where researchers spend the majority of their time, primarily because it houses a vast amount of data not collected during the Decennial Census.\n",
        "\n",
        "For instance, the 2020 Census included the following (for every person per household):\n",
        "\n",
        "* Name\n",
        "* Relationship to Person 1\n",
        "* Sex\n",
        "* Age\n",
        "* Date of Birth\n",
        "* Hispanic Origin\n",
        "* Race\n",
        "\n",
        "That's it. That leaves out a lot of information policy makers and researchers need and regularly use.\n",
        "\n",
        "Starting in 1940, the Census provided a random sample of household respondents a \"Long Form Census\", as opposed to the short form. This included various additional questions to provide the government with a sample of details, without increasing the cost of surveying substantially. Over the years, it became clear that not only did this not solve a major problem of the Census, which is how dated the data is by years 7, 8, and 9, but also in that it was depressing completion rates. In 2005, congress provided funding (and years of research) to launch the American Community Survey. This survey is sent to a random sample of 295k addresses each month (3.5M/year). It is then aggregated and provided to the public at 1 year and 5 year increments. A 3-year product was also provided up until a couple years ago.\n",
        "\n",
        "\n",
        "\n"
      ]
    },
    {
      "cell_type": "markdown",
      "metadata": {
        "id": "H6zXY74EBorC"
      },
      "source": [
        "### American Community Service Products\n",
        "\n",
        "<img src=\"https://brown-institute-assets.s3.us-east-1.amazonaws.com/Objects/pointsunknown/2021_Summer/Lectures/public_data/ACS_Information_Guide.jpg\" alt=\"data.census.gov Homepage\" width=\"500\"/>\n",
        "\n",
        "In the above table, we see the various ACS products and the characteristics that we are able to pull data on. In addition, it is always important to understand the geographic resolution available to us. Just because we can find data at the Block Group level, does not mean we should!\n",
        "\n",
        "<img src=\"https://brown-institute-assets.s3.us-east-1.amazonaws.com/Objects/pointsunknown/2021_Summer/Lectures/public_data/ACS_Information_Guide-Geo.jpg\" alt=\"data.census.gov Homepage\" width=\"500\"/>"
      ]
    },
    {
      "cell_type": "markdown",
      "metadata": {
        "id": "L_hRV2lLBwWJ"
      },
      "source": [
        "### Census Reporter\n",
        "\n",
        "<a href=\"https://censusreporter.org\"><img src=\"https://brown-institute-assets.s3.us-east-1.amazonaws.com/Objects/pointsunknown/2021_Summer/Lectures/public_data/census-reporter.png\" border=\"1px\" alt=\"Census Reporter Homepage\" width=\"750\"/></a>\n",
        "\n",
        "[Census Reporter](https://censusreporter.org/) is an independent project to make data from the American Community Survey easier to use. We recommend using Census Reporter whenever you're in doubt over what table to use and why.\n",
        "\n",
        "In particular, the Table Codes page ([censusreporter.org/topics/table-codes](https://censusreporter.org/topics/table-codes/)) is something you should bookmark in your browser."
      ]
    },
    {
      "cell_type": "markdown",
      "metadata": {
        "id": "CBlZjGwtB4kR"
      },
      "source": [
        "### Margin of Error\n",
        "\n",
        "The Margin of Error (often expressed MOE) is a measure of the possible variation of the estimate around the population value.\n",
        "\n",
        "At a given confidence level, the estimate and the actual population will differ by no more than the value of the MOE.\n",
        "\n",
        "The Census Bureau Standard is a **90% confidence level**. When viewing Census data, all MOEs are provided in the same units as their estimates.\n",
        "\n",
        "Why does MOE matter? Because at certain geographic resolutions or estimates derived from small sample sizes, the bounds of the confidence interval can be drastic.\n",
        "\n",
        "<img src=\"https://brown-institute-assets.s3.us-east-1.amazonaws.com/Objects/pointsunknown/2021_Summer/Lectures/public_data/confidence-interval.jpeg\" alt=\"data.census.gov Homepage\" width=\"500\"/><br>\n",
        "<img src=\"https://brown-institute-assets.s3.us-east-1.amazonaws.com/Objects/pointsunknown/2021_Summer/Lectures/public_data/moe.jpg\" alt=\"data.census.gov Homepage\" width=\"500\"/>\n",
        "\n",
        "So what does this example tell us? Well, to begin, it is obvious we should not be looking to publish information about the median household income of this blog group, based on this estimate. What we can say? We are 90% confident that the true median household income for Block Group 1 is within 20,922 of the provided estimate of 37,284. Expressed differently, we are 90% confident that the true median household income for Block Group 1 is between 16,362 and 58,206.\n",
        "\n",
        "So Margin of Error can be really helpful in putting bounds on our confidence in the data. It can also be used in helping us compare two estimates, as it is a critical component to statistical tests."
      ]
    },
    {
      "cell_type": "markdown",
      "metadata": {
        "id": "JzDiH29JCYyl"
      },
      "source": [
        "## Census Data - Using It"
      ]
    },
    {
      "cell_type": "code",
      "execution_count": null,
      "metadata": {
        "id": "Qv208E7o-CUs"
      },
      "outputs": [],
      "source": [
        "commutingMetadata = pd.read_csv('https://brown-institute-assets.s3.us-east-1.amazonaws.com/Objects/pointsunknown/2021_Summer/Lectures/public_data/ACSST5Y2019.S0801/ACSST5Y2019.S0801_metadata.csv')\n",
        "commutingTable = pd.read_csv('https://brown-institute-assets.s3.us-east-1.amazonaws.com/Objects/pointsunknown/2021_Summer/Lectures/public_data/ACSST5Y2019.S0801/ACSST5Y2019.S0801_data_with_overlays.csv')"
      ]
    },
    {
      "cell_type": "markdown",
      "metadata": {
        "id": "aCjx3J_eCs3U"
      },
      "source": [
        "If we were going to make a habit of downloading Census data through their portal, we would be more careful with importing and assigning data types. But in the portion that follows, we just want to see what the Census provides through its site."
      ]
    },
    {
      "cell_type": "code",
      "execution_count": null,
      "metadata": {
        "id": "-w0S6FldCqJp"
      },
      "outputs": [],
      "source": [
        "commutingMetadata.head()"
      ]
    },
    {
      "cell_type": "code",
      "execution_count": null,
      "metadata": {
        "id": "xlq8zGsyCwSi"
      },
      "outputs": [],
      "source": [
        "commutingMetadata.shape"
      ]
    },
    {
      "cell_type": "code",
      "execution_count": null,
      "metadata": {
        "id": "MbHgnC_3CyBl"
      },
      "outputs": [],
      "source": [
        "commutingTable.head()"
      ]
    },
    {
      "cell_type": "code",
      "execution_count": null,
      "metadata": {
        "id": "36Bnm1yCCzj0"
      },
      "outputs": [],
      "source": [
        "commutingTable.columns"
      ]
    },
    {
      "cell_type": "markdown",
      "metadata": {
        "id": "kZSDmQC8DBJO"
      },
      "source": [
        "### Cleaning and Processing Census Data\n",
        "\n",
        "Now that we've explored the data, we will clean and filter down to the set of columns we're interested in. This includes total population, commuting departure windows, and mean commuting time."
      ]
    },
    {
      "cell_type": "code",
      "execution_count": null,
      "metadata": {
        "id": "Nolw8AZfC6FR"
      },
      "outputs": [],
      "source": [
        "commutingTableFiltered = commutingTable[['GEO_ID', 'NAME', 'S0801_C01_001E', 'S0801_C01_001M', 'S0801_C01_027E', 'S0801_C01_028E', 'S0801_C01_029E', 'S0801_C01_030E', 'S0801_C01_031E', 'S0801_C01_032E', 'S0801_C01_033E', 'S0801_C01_034E', 'S0801_C01_035E','S0801_C01_036E', 'S0801_C01_046E']].copy(deep=True)"
      ]
    },
    {
      "cell_type": "markdown",
      "metadata": {
        "id": "A1VvIsN7DOnc"
      },
      "source": [
        "Because columns are illegible, we will provide them with user-friendly names."
      ]
    },
    {
      "cell_type": "code",
      "execution_count": null,
      "metadata": {
        "id": "Gqxq7g2CDKHP"
      },
      "outputs": [],
      "source": [
        "commutingTableFiltered.rename(columns = {'GEO_ID':'geoid', 'NAME':'name', 'S0801_C01_001E':'workingPop', 'S0801_C01_001M':'workingPopMOE', 'S0801_C01_027E':'commute-12-459', 'S0801_C01_028E':'commute-5-529', 'S0801_C01_029E':'commute-530-559', 'S0801_C01_030E':'commute-6-629', 'S0801_C01_031E':'commute-630-659', 'S0801_C01_032E':'commute-7-729', 'S0801_C01_033E':'commute-730-759', 'S0801_C01_034E':'commute-8-829', 'S0801_C01_035E':'commute-830-859', 'S0801_C01_036E':'commute-9-1159', 'S0801_C01_046E':'meanCommuteTime'}, inplace = True)\n",
        "commutingTableFiltered.drop(commutingTableFiltered.index[0]).reset_index(drop=True)"
      ]
    },
    {
      "cell_type": "markdown",
      "metadata": {
        "id": "aiydTXiRDeQQ"
      },
      "source": [
        "Next, we want to join this data to a map. To do so, we need to import a counties geography file. Here, we are importing a 5m resolution US counties file from 2019 (the same publication year as our ACS data table). All official census boundary files can be found in the [Tiger](https://www.census.gov/geographies/mapping-files/time-series/geo/tiger-line-file.html) section of the census website."
      ]
    },
    {
      "cell_type": "code",
      "execution_count": null,
      "metadata": {
        "id": "-wk-UNVWDQP9"
      },
      "outputs": [],
      "source": [
        "counties = gpd.read_file('https://www2.census.gov/geo/tiger/GENZ2019/shp/cb_2019_us_county_5m.zip')"
      ]
    },
    {
      "cell_type": "code",
      "execution_count": null,
      "metadata": {
        "id": "bw7oMoejDhI0"
      },
      "outputs": [],
      "source": [
        "counties.head()"
      ]
    },
    {
      "cell_type": "markdown",
      "metadata": {
        "id": "uV2Cnj7tDpKM"
      },
      "source": [
        "Now, the first thing we need to do is determine how we will join our data. You can see that the geoid column provided in the ACS data mirrors the format of the AFFGEOID in this dataframe.\n",
        "\n",
        "Next, we need to see if they are the same shape."
      ]
    },
    {
      "cell_type": "code",
      "execution_count": null,
      "metadata": {
        "id": "4yLeXuTGDnPU"
      },
      "outputs": [],
      "source": [
        "print(commutingTableFiltered.geoid)\n",
        "print(counties.AFFGEOID)"
      ]
    },
    {
      "cell_type": "markdown",
      "metadata": {
        "id": "KBpZ17RlDzwy"
      },
      "source": [
        "There are 12 more rows contained in the counties data file, so let's filter to see what those are."
      ]
    },
    {
      "cell_type": "code",
      "execution_count": null,
      "metadata": {
        "id": "eVe2yPxoDvEq"
      },
      "outputs": [],
      "source": [
        "counties[~counties.AFFGEOID.isin(commutingTableFiltered.geoid)]"
      ]
    },
    {
      "cell_type": "markdown",
      "metadata": {
        "id": "YMJVchhID3GC"
      },
      "source": [
        "So here we can see omissions in data collection. This is because the American Community Survey only gathers information on the US States, DC, and Puerto Rico. Notably absent in the collection is American Samoa, Guam, the Northern Mariana Islands, and the US Virgin Islands.\n",
        "\n",
        "To make our join easy, we are going to rename our GEOID filed in the counties file to geoid (all lowercase). This matches what is in our ACS dataframe."
      ]
    },
    {
      "cell_type": "code",
      "execution_count": null,
      "metadata": {
        "id": "lTYIEQbrD0Fs"
      },
      "outputs": [],
      "source": [
        "counties.rename(columns = {'AFFGEOID':'geoid'}, inplace = True)"
      ]
    },
    {
      "cell_type": "markdown",
      "metadata": {
        "id": "m8OI06GyD82_"
      },
      "source": [
        "Finally, we will make a new geodataframe merging the counties file to the ACS table."
      ]
    },
    {
      "cell_type": "code",
      "execution_count": null,
      "metadata": {
        "id": "D2xroOvzD6Wf"
      },
      "outputs": [],
      "source": [
        "usCommutes = counties.merge(commutingTableFiltered, on='geoid')"
      ]
    },
    {
      "cell_type": "code",
      "execution_count": null,
      "metadata": {
        "id": "UYnVD8EMD-2n"
      },
      "outputs": [],
      "source": [
        "usCommutes.dtypes"
      ]
    },
    {
      "cell_type": "markdown",
      "metadata": {
        "id": "MetgGeT7ECQb"
      },
      "source": [
        "Now that we have a datafarme, we need to set the datatypes to be equal to what they represent. This mainly involves changing the census columns from strings (object) to int and float, depending."
      ]
    },
    {
      "cell_type": "code",
      "execution_count": null,
      "metadata": {
        "id": "zueuX04DEAIS"
      },
      "outputs": [],
      "source": [
        "usCommutes['workingPop'] = usCommutes['workingPop'].astype('int64')\n",
        "usCommutes['workingPopMOE'] = usCommutes['workingPopMOE'].astype('int64')\n",
        "usCommutes[['commute-12-459', 'commute-5-529', 'commute-530-559', 'commute-6-629', 'commute-630-659', 'commute-7-729', 'commute-730-759', 'commute-8-829', 'commute-830-859', 'commute-9-1159', 'meanCommuteTime']] = usCommutes[['commute-12-459', 'commute-5-529', 'commute-530-559', 'commute-6-629', 'commute-630-659', 'commute-7-729', 'commute-730-759', 'commute-8-829', 'commute-830-859', 'commute-9-1159', 'meanCommuteTime']].apply(pd.to_numeric, errors='coerce')"
      ]
    },
    {
      "cell_type": "code",
      "execution_count": null,
      "metadata": {
        "id": "_5U1v3XkED5P"
      },
      "outputs": [],
      "source": [
        "usCommutes.dtypes"
      ]
    },
    {
      "cell_type": "markdown",
      "metadata": {
        "id": "VSy6WXIuEJF3"
      },
      "source": [
        "And before we map our data, there is one more piece of data we are interested in creating. First, let's see what the peak window is for commuting. In addition to the full 24 hours, let's see what the heaviest commute time is between 6 and 9AM."
      ]
    },
    {
      "cell_type": "code",
      "execution_count": null,
      "metadata": {
        "id": "glgBKmm6EGM6"
      },
      "outputs": [],
      "source": [
        "usCommutes['peakCommute'] = usCommutes[['commute-12-459', 'commute-5-529', 'commute-530-559', 'commute-6-629', 'commute-630-659', 'commute-7-729', 'commute-730-759', 'commute-8-829', 'commute-830-859', 'commute-9-1159']].idxmax(axis=1)\n",
        "usCommutes['peakCommuteAM'] = usCommutes[['commute-6-629', 'commute-630-659', 'commute-7-729', 'commute-730-759', 'commute-8-829', 'commute-830-859']].idxmax(axis=1)"
      ]
    },
    {
      "cell_type": "code",
      "execution_count": null,
      "metadata": {
        "id": "FbZK74IHEKfY"
      },
      "outputs": [],
      "source": [
        "usCommutes.head()"
      ]
    },
    {
      "cell_type": "code",
      "execution_count": null,
      "metadata": {
        "id": "4mNjD2stEOBE"
      },
      "outputs": [],
      "source": [
        "standardDeviation = usCommutes['meanCommuteTime'].std()\n",
        "mean = usCommutes['meanCommuteTime'].mean()\n",
        "\n",
        "print(standardDeviation)\n",
        "print(mean)"
      ]
    },
    {
      "cell_type": "code",
      "execution_count": null,
      "metadata": {
        "id": "vFvciKBuETPf"
      },
      "outputs": [],
      "source": [
        "breaks = [usCommutes['meanCommuteTime'].min(), mean - standardDeviation * 2, mean - standardDeviation, mean, mean + standardDeviation, mean + standardDeviation * 2, usCommutes['meanCommuteTime'].max()]"
      ]
    },
    {
      "cell_type": "code",
      "execution_count": null,
      "metadata": {
        "id": "oisw8ryiEVJ9"
      },
      "outputs": [],
      "source": [
        "breaks"
      ]
    },
    {
      "cell_type": "code",
      "execution_count": null,
      "metadata": {
        "id": "SF63teX_EW3G"
      },
      "outputs": [],
      "source": [
        "labels = ['<-2','-2 - -1', '-1 - 0', '0 - +1', '+1 - +2', '>+2']"
      ]
    },
    {
      "cell_type": "code",
      "execution_count": null,
      "metadata": {
        "id": "bLHNwjvHEYXv"
      },
      "outputs": [],
      "source": [
        "usCommutes['standardDeviation'] = pd.cut(usCommutes['meanCommuteTime'], breaks, labels=labels)"
      ]
    },
    {
      "cell_type": "markdown",
      "metadata": {
        "id": "sUJ16_2fE4HV"
      },
      "source": [
        "### Mapping Census Data"
      ]
    },
    {
      "cell_type": "code",
      "execution_count": null,
      "metadata": {
        "id": "RbSm5sUFEZZ_"
      },
      "outputs": [],
      "source": [
        "commutingMap = alt.Chart(usCommutes).mark_geoshape().encode(\n",
        "    color=alt.Color('standardDeviation:O',\n",
        "      legend=alt.Legend(title='Mean Commute Time'),\n",
        "      scale=alt.Scale(scheme='redblue',\n",
        "        domain=labels, reverse=True)),\n",
        "    tooltip=[alt.Tooltip('name',title='County'),\n",
        "      alt.Tooltip('meanCommuteTime',title='Mean Commute Time')]\n",
        ").project(\n",
        "    type='albersUsa'\n",
        ").properties(\n",
        "    title='Mean Commute time to Work (Minutes)',\n",
        "    width=700,\n",
        "    height=450\n",
        ").configure_view(\n",
        "    strokeWidth=0\n",
        ")\n",
        "\n",
        "commutingMap"
      ]
    },
    {
      "cell_type": "code",
      "execution_count": null,
      "metadata": {
        "id": "qDITUCOpEacw"
      },
      "outputs": [],
      "source": [
        "commutingMap = alt.Chart(usCommutes).mark_geoshape().encode(\n",
        "    color=alt.Color('meanCommuteTime:Q',\n",
        "      legend=alt.Legend(title='Mean Commute Time'),\n",
        "      scale=alt.Scale(scheme='purples',\n",
        "        domain=[0,55])),\n",
        "    tooltip=[alt.Tooltip('name',title='County'),\n",
        "      alt.Tooltip('meanCommuteTime',title='Mean Commute Time')]\n",
        ").project(\n",
        "    type='albersUsa'\n",
        ").properties(\n",
        "    title='Mean Commute time to Work (Minutes)',\n",
        "    width=700,\n",
        "    height=450\n",
        ").configure_view(\n",
        "    strokeWidth=0\n",
        ")\n",
        "\n",
        "commutingMap"
      ]
    },
    {
      "cell_type": "code",
      "execution_count": null,
      "metadata": {
        "id": "MlIMQtNmE9tw"
      },
      "outputs": [],
      "source": [
        "peakCommuteMap = alt.Chart(usCommutes).mark_geoshape().encode(\n",
        "    color=alt.Color('peakCommute:O',\n",
        "      legend=alt.Legend(title='Peak Commute Time'),\n",
        "      scale=alt.Scale(scheme='purples')),\n",
        "    tooltip=[alt.Tooltip('name',title='County'),\n",
        "      alt.Tooltip('meanCommuteTime',title='Mean Commute Time'),\n",
        "      alt.Tooltip('peakCommute',title='Peak Commute Time')]\n",
        ").project(\n",
        "    type='albersUsa'\n",
        ").properties(\n",
        "    title='Peak Commute Time',\n",
        "    width=700,\n",
        "    height=450\n",
        ")\n",
        "\n",
        "peakCommuteMap"
      ]
    },
    {
      "cell_type": "code",
      "execution_count": null,
      "metadata": {
        "id": "55rr4ZaYFAvN"
      },
      "outputs": [],
      "source": [
        "peakCommuteMapAM = alt.Chart(usCommutes).mark_geoshape().encode(\n",
        "    color=alt.Color('peakCommuteAM:O',\n",
        "      legend=alt.Legend(title='Peak Commute Time'),\n",
        "      scale=alt.Scale(scheme='purples')),\n",
        "    tooltip=[alt.Tooltip('name',title='County'),\n",
        "      alt.Tooltip('meanCommuteTime',title='Mean Commute Time'),\n",
        "      alt.Tooltip('peakCommuteAM',title='Peak Commute Time')]\n",
        ").project(\n",
        "    type='albersUsa'\n",
        ").properties(\n",
        "    title='Peak Commute Time (6-9AM)',\n",
        "    width=700,\n",
        "    height=450\n",
        ")\n",
        "\n",
        "peakCommuteMapAM"
      ]
    },
    {
      "cell_type": "code",
      "execution_count": null,
      "metadata": {
        "id": "0KWhJQz3FCZD"
      },
      "outputs": [],
      "source": []
    }
  ],
  "metadata": {
    "colab": {
      "provenance": [],
      "authorship_tag": "ABX9TyMEz8QrnDtNUpTd0eIXvhTg",
      "include_colab_link": true
    },
    "kernelspec": {
      "display_name": "Python 3",
      "name": "python3"
    },
    "language_info": {
      "name": "python"
    }
  },
  "nbformat": 4,
  "nbformat_minor": 0
}