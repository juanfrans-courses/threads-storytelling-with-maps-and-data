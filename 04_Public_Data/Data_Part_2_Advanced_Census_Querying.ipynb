{
  "nbformat": 4,
  "nbformat_minor": 0,
  "metadata": {
    "colab": {
      "provenance": [],
      "authorship_tag": "ABX9TyMZ/4KPfMpsfs3jaDIFUBB+",
      "include_colab_link": true
    },
    "kernelspec": {
      "name": "python3",
      "display_name": "Python 3"
    },
    "language_info": {
      "name": "python"
    }
  },
  "cells": [
    {
      "cell_type": "markdown",
      "metadata": {
        "id": "view-in-github",
        "colab_type": "text"
      },
      "source": [
        "<a href=\"https://colab.research.google.com/github/juanfrans-courses/threads-storytelling-with-maps-and-data/blob/main/04_Public_Data/Data_Part_2_Advanced_Census_Querying.ipynb\" target=\"_parent\"><img src=\"https://colab.research.google.com/assets/colab-badge.svg\" alt=\"Open In Colab\"/></a>"
      ]
    },
    {
      "cell_type": "markdown",
      "source": [
        "# Data Part 2 - Advanced Census Querying\n",
        "\n",
        "**Threads - Storytelling with Maps and Data (Spring 2025)**"
      ],
      "metadata": {
        "id": "KxHO0411d_bu"
      }
    },
    {
      "cell_type": "markdown",
      "source": [
        "## Setting Up\n",
        "\n",
        "Before we install our packages and start to work with census data, we need to register for a Census API Key so that we can remove the majority of restrictions when it comes to accessing and downloading Census Data.\n",
        "\n",
        "To do so, go to [api.census.gov/data/key_signup.html](https://api.census.gov/data/key_signup.html) and provide your basic access information (name and organization).\n",
        "\n",
        "Check your email and **make sure you click on the link** that says \"click here to activate your key\".\n",
        "\n",
        "Store your API key in a place familiar to you, like a password manager.\n",
        "\n",
        "Now let's import the normal libraries plus [census](https://pypi.org/project/census/) and [jenkspy](https://pypi.org/project/jenkspy/)."
      ],
      "metadata": {
        "id": "sTkwIFemeW5U"
      }
    },
    {
      "cell_type": "code",
      "execution_count": null,
      "metadata": {
        "id": "9JodFPujd9xc"
      },
      "outputs": [],
      "source": [
        "!pip install census\n",
        "!pip install jenkspy\n",
        "import numpy as np\n",
        "import pandas as pd\n",
        "import geopandas as gpd\n",
        "import altair as alt\n",
        "from census import Census\n",
        "import jenkspy"
      ]
    },
    {
      "cell_type": "markdown",
      "source": [
        "It is always good practice to save your keys and secrets in your local environment. That way when you push code to a public repository those secrets or keys don't become public. In Colab you can replicate this by adding them to your secrets in the left hand panel and then loading them like this:"
      ],
      "metadata": {
        "id": "H6b2WZiF7P77"
      }
    },
    {
      "cell_type": "code",
      "source": [
        "from google.colab import userdata\n",
        "CENSUS_API_KEY = userdata.get('CENSUS_API_KEY')"
      ],
      "metadata": {
        "id": "RC5kBuR64UcH"
      },
      "execution_count": null,
      "outputs": []
    },
    {
      "cell_type": "markdown",
      "source": [
        "## Querying Census Data With Census API\n",
        "\n",
        "Now let's use the census API library to get data from the census. We will use this data to create three maps, all for New York City census tracts:\n",
        "\n",
        "* Median household income\n",
        "* Gini coefficient\n",
        "* Rent as percent of income\n",
        "\n",
        "All three maps should include the census tract's total population in the tooltip.\n",
        "\n",
        "The corresponding ACS 2020 variables are:\n",
        "\n",
        "* `B01003_001E`: total population\n",
        "* `B19013_001E`: median household income\n",
        "* `B19083_001E`: gini coefficient\n",
        "* `B25071_001E`: rent as percent of income\n",
        "\n",
        "First, let's create a variable that holds our \"Census\" object with our API key."
      ],
      "metadata": {
        "id": "z1drBNJ-fXcI"
      }
    },
    {
      "cell_type": "code",
      "source": [
        "c = Census(CENSUS_API_KEY)"
      ],
      "metadata": {
        "id": "Qs1gKcxW_4Cm"
      },
      "execution_count": null,
      "outputs": []
    },
    {
      "cell_type": "markdown",
      "source": [
        "Next, let's get the data for the first map: total population and median household income. The syntax for the query is actually pretty simple: here we are getting three variables from the 2020 ACS 5-year survey at the census tract level for the **state** of New York. Further down we will filter this to get just the tracts for New York City. Here is the list of corresponding [FIPS codes for US states](https://www.census.gov/library/reference/code-lists/ansi/ansi-codes-for-states.html)."
      ],
      "metadata": {
        "id": "zQqJ25POQ9b1"
      }
    },
    {
      "cell_type": "code",
      "source": [
        "data = c.acs5.get(\n",
        "    ('NAME', 'B01003_001E', 'B19013_001E'),  # Variables: census tract name, total population, median household income\n",
        "    {'for': 'tract:*', 'in': 'state:36'},  # Geographic filters: All census tracts in New York State (code 36)\n",
        "    year=2020,\n",
        ")"
      ],
      "metadata": {
        "id": "5gsS_dIb_4Cm"
      },
      "execution_count": null,
      "outputs": []
    },
    {
      "cell_type": "markdown",
      "source": [
        "The result is a list with all the data. Let's print the first five items in the list."
      ],
      "metadata": {
        "id": "Kvn-u0SLR_9S"
      }
    },
    {
      "cell_type": "code",
      "source": [
        "data[:5]"
      ],
      "metadata": {
        "id": "CPJPm2VrAAti"
      },
      "execution_count": null,
      "outputs": []
    },
    {
      "cell_type": "markdown",
      "source": [
        "And now let's convert that into a Pandas DataFrame. This will make it easier to clean it and to join it with a GeoDataFrame of the census tract geometries."
      ],
      "metadata": {
        "id": "PHYeTaeeSGAO"
      }
    },
    {
      "cell_type": "code",
      "source": [
        "df = pd.DataFrame(data)"
      ],
      "metadata": {
        "id": "vka9lOs4AVfB"
      },
      "execution_count": null,
      "outputs": []
    },
    {
      "cell_type": "code",
      "source": [
        "df.head()"
      ],
      "metadata": {
        "id": "HiKdYCsIAfyQ"
      },
      "execution_count": null,
      "outputs": []
    },
    {
      "cell_type": "markdown",
      "source": [
        "Now we need to get the tracts just for New York City. We do this by selecting only the ones for New York City counties. Again, we use the [corresponding FIPS codes](https://www.census.gov/library/reference/code-lists/ansi.html#cou). Remember, New York City counties are Bronx, Kings, New York, Queens and Richmond."
      ],
      "metadata": {
        "id": "b8qpKqU_Sa9E"
      }
    },
    {
      "cell_type": "code",
      "source": [
        "new_york_counties = ['005', '047', '061', '081', '085']"
      ],
      "metadata": {
        "id": "avSbm-85Agcd"
      },
      "execution_count": null,
      "outputs": []
    },
    {
      "cell_type": "code",
      "source": [
        "nyc_df = df[df['county'].isin(new_york_counties)].copy(deep=True)"
      ],
      "metadata": {
        "id": "e_j-3SFgAl2y"
      },
      "execution_count": null,
      "outputs": []
    },
    {
      "cell_type": "code",
      "source": [
        "nyc_df.shape"
      ],
      "metadata": {
        "id": "ZQgcpxiUAqtX"
      },
      "execution_count": null,
      "outputs": []
    },
    {
      "cell_type": "markdown",
      "source": [
        "Now that we have the data just for New York City's census tracts, let's bring in a shapefile with the corresponding census tract geographies as a GeoDataFrame. We will then join the census data we donwloaded to this GeoDataFrame.\n",
        "\n",
        "There are multiple sites where you can find geographic files, even within the census page:\n",
        "\n",
        "* You can find all the census geographies in the [Census TIGER page](https://www.census.gov/cgi-bin/geo/shapefiles/index.php).\n",
        "* You can also find simplified versions of most of these files in the [Cartographic Boundaries](https://www.census.gov/geographies/mapping-files/time-series/geo/cartographic-boundary.2020.html#list-tab-1883739534) section. When possible, I recommend using this over the main TIGER page. These files are lighter and more suitable to mapping.\n",
        "\n",
        "But, for our purposes, we'll actually use the [Bytes of the Big Apple](https://www.nyc.gov/site/planning/data-maps/open-data/census-download-metadata.page) page from NYC's Department of City Planning because they provide census tracts clipped to the shoreline.\n",
        "\n",
        "Always make sure you donwload the geography for the year that corresponds to the data you downloaded."
      ],
      "metadata": {
        "id": "qw-M1rv4TBsf"
      }
    },
    {
      "cell_type": "code",
      "source": [
        "# gdf = gpd.read_file('https://www2.census.gov/geo/tiger/TIGER2020/TRACT/tl_2020_36_tract.zip') # Main TIGER page\n",
        "# gdf = gpd.read_file('https://www2.census.gov/geo/tiger/GENZ2020/shp/cb_2020_36_tract_500k.zip') # Cartographic Boundaries\n",
        "gdf = gpd.read_file('https://services5.arcgis.com/GfwWNkhOj9bNBqoJ/arcgis/rest/services/NYC_Census_Tracts_for_2020_US_Census/FeatureServer/0/query?where=1=1&outFields=*&outSR=4326&f=pgeojson') # Bytes of the Big Apple NYC Department of City Planning"
      ],
      "metadata": {
        "id": "DjiFHQlMAsit"
      },
      "execution_count": null,
      "outputs": []
    },
    {
      "cell_type": "code",
      "source": [
        "gdf.head()"
      ],
      "metadata": {
        "id": "H2Ku-tYlCcSE"
      },
      "execution_count": null,
      "outputs": []
    },
    {
      "cell_type": "markdown",
      "source": [
        "Now we need to join the two datasets using a common column. Notice that the geography one has a column called `GEOID`. This column is a code made out of the state code, the county code and the census tract code. Let's then build that same code for the data we downloaded so we can use it to join the two datasets."
      ],
      "metadata": {
        "id": "L37vJCC_TypD"
      }
    },
    {
      "cell_type": "code",
      "source": [
        "nyc_df['GEOID'] = nyc_df['state'] + nyc_df['county'] + nyc_df['tract']"
      ],
      "metadata": {
        "id": "OD2hpKn-CdhM"
      },
      "execution_count": null,
      "outputs": []
    },
    {
      "cell_type": "markdown",
      "source": [
        "Now let's merge them using the `GEOID` field."
      ],
      "metadata": {
        "id": "wnmwGUAhURll"
      }
    },
    {
      "cell_type": "code",
      "source": [
        "nyc_gdf = gdf.merge(nyc_df, on='GEOID')"
      ],
      "metadata": {
        "id": "GGdiFdxMCxN6"
      },
      "execution_count": null,
      "outputs": []
    },
    {
      "cell_type": "code",
      "source": [
        "nyc_gdf.head()"
      ],
      "metadata": {
        "id": "WNcPULlfDKzp"
      },
      "execution_count": null,
      "outputs": []
    },
    {
      "cell_type": "code",
      "source": [
        "len(nyc_gdf)"
      ],
      "metadata": {
        "id": "mkOVySG0DL-S"
      },
      "execution_count": null,
      "outputs": []
    },
    {
      "cell_type": "markdown",
      "source": [
        "Finally, let's filter out the census tracts where there is no income."
      ],
      "metadata": {
        "id": "oHaeLOiTa5YF"
      }
    },
    {
      "cell_type": "code",
      "source": [
        "nyc_gdf = nyc_gdf[nyc_gdf['B19013_001E'] > 0]"
      ],
      "metadata": {
        "id": "pIEuZCvwHHEy"
      },
      "execution_count": null,
      "outputs": []
    },
    {
      "cell_type": "markdown",
      "source": [
        "And let's create the map."
      ],
      "metadata": {
        "id": "USzb_4nna_1X"
      }
    },
    {
      "cell_type": "code",
      "source": [
        "mnIncomeMap = alt.Chart(nyc_gdf).mark_geoshape().encode(\n",
        "    color=alt.Color('B19013_001E:Q', legend=alt.Legend(title='MHHI per Census Tract (Dollars)', format='$,.2r'), scale=alt.Scale(scheme='purples', domain=[0, 250000])),\n",
        "    tooltip=[alt.Tooltip('NAME',title='County'),\n",
        "      alt.Tooltip('B01003_001E',title='Population', format=',.2r'),\n",
        "      alt.Tooltip('B19013_001E',title='Median Household Income', format='$,.2r')]\n",
        ").properties(\n",
        "    width=700,\n",
        "    height=750,\n",
        "    title='Median Household Income (New York City)'\n",
        ").project(\n",
        "    type='mercator'\n",
        ")\n",
        "\n",
        "mnIncomeMap"
      ],
      "metadata": {
        "id": "axu4Fx3SDPDN"
      },
      "execution_count": null,
      "outputs": []
    },
    {
      "cell_type": "markdown",
      "source": [
        "## In Class Excercise\n",
        "\n",
        "Go ahead and build the next two maps."
      ],
      "metadata": {
        "id": "-WADliu4IAjw"
      }
    }
  ]
}